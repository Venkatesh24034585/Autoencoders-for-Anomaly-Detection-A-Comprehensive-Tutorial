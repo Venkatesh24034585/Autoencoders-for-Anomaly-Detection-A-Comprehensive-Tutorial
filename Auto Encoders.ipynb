{
 "cells": [
  {
   "cell_type": "markdown",
   "id": "ba5f92e2-aafb-401f-8bd4-98bebb1e15ba",
   "metadata": {},
   "source": [
    "## Autoencoders for Anomaly Detection: A Comprehensive Tutorial"
   ]
  },
  {
   "cell_type": "markdown",
   "id": "fd2e10fa-0e51-4d70-b6f3-f05e2e52600a",
   "metadata": {},
   "source": [
    "We'll use a credit card fraud dataset from Kaggle. It contains transactions labeled as fraudulent or normal."
   ]
  },
  {
   "cell_type": "markdown",
   "id": "612d2122-ccc6-4026-a748-9e99e025ef38",
   "metadata": {},
   "source": [
    "## Loading the Data"
   ]
  },
  {
   "cell_type": "markdown",
   "id": "400cdfe9-d325-45f8-87ca-60d914c0f6da",
   "metadata": {},
   "source": [
    "# 📌 Credit Card Fraud Detection - Data Preprocessing  \n",
    "\n",
    "This Implementation **prepares the dataset** for **anomaly detection** in credit card transactions.  \n",
    "\n",
    "## 🔹 **Key Steps in Preprocessing**  \n",
    "### 1️⃣ **Load Dataset**  \n",
    "- Reads the **credit card dataset** (`creditcard.csv`) using **pandas**.  \n",
    "- Drops any **missing values** (`NaN`).  \n",
    "\n",
    "### 2️⃣ **Feature Normalization**  \n",
    "- Uses **StandardScaler** to **normalize** all features (except the target class).  \n",
    "- Ensures that features have **zero mean** and **unit variance**, improving model performance.  \n",
    "\n",
    "### 3️⃣ **Data Splitting**  \n",
    "- **80% Training Set**, **20% Test Set** (using `train_test_split`).  \n",
    "- **Separates Normal Transactions (`Class = 0`) from Anomalies (`Class = 1`)**:\n",
    "  - `train_normal`: **Normal training transactions (without labels).**  \n",
    "  - `test_normal`: **Normal test transactions.**  \n",
    "  - `test_anomalies`: **Anomalous test transactions (fraud cases).**  \n",
    "\n",
    "## 🎯 **Why is this Important?**  \n",
    "✅ **Fraud detection requires anomaly detection techniques.** 🔍  \n",
    "✅ **Standardization prevents features with large values from dominating.** ⚖️  \n",
    "✅ **Training on only normal transactions helps unsupervised models detect anomalies better.** 📊  \n",
    "\n",
    "🚀 **Dataset is now ready for model training!**"
   ]
  },
  {
   "cell_type": "code",
   "execution_count": 2,
   "id": "b43333e4-684a-4f4c-add0-a320c410d44b",
   "metadata": {},
   "outputs": [],
   "source": [
    "import numpy as np\n",
    "import pandas as pd\n",
    "import matplotlib.pyplot as plt\n",
    "import seaborn as sns\n",
    "from sklearn.preprocessing import StandardScaler\n",
    "from sklearn.model_selection import train_test_split\n",
    "\n",
    "# Load dataset\n",
    "df = pd.read_csv(\"creditcard.csv\")\n",
    "df = df.dropna()\n",
    "\n",
    "# Normalize features\n",
    "scaler = StandardScaler()\n",
    "df.iloc[:, :-1] = scaler.fit_transform(df.iloc[:, :-1])\n",
    "\n",
    "# Splitting data\n",
    "train, test = train_test_split(df, test_size=0.2, random_state=42)\n",
    "train_normal = train[train['Class'] == 0].drop('Class', axis=1)\n",
    "test_normal = test[test['Class'] == 0].drop('Class', axis=1)\n",
    "test_anomalies = test[test['Class'] == 1].drop('Class', axis=1)"
   ]
  },
  {
   "cell_type": "markdown",
   "id": "452d1f53-2120-4330-a849-16a77d54653f",
   "metadata": {},
   "source": [
    "## Building the Autoencoder"
   ]
  },
  {
   "cell_type": "markdown",
   "id": "7c9e8806-918e-4ca8-ac5f-3ca8528544cd",
   "metadata": {},
   "source": [
    "# 🔍 **Autoencoder for Credit Card Fraud Detection**  \n",
    "\n",
    "## 🏗 **Building an Autoencoder Model**  \n",
    "This script defines and compiles an **Autoencoder Neural Network** using **TensorFlow/Keras** to detect fraud in credit card transactions.  \n",
    "\n",
    "### 🚀 **Autoencoder Architecture**  \n",
    "✅ **Input Layer**: Accepts transaction features.  \n",
    "✅ **Encoder**:  \n",
    "   - **32 neurons** (ReLU activation).  \n",
    "   - **16 neurons** (ReLU activation).  \n",
    "   - **8 neurons** (ReLU activation, bottleneck layer).  \n",
    "✅ **Decoder**:  \n",
    "   - **16 neurons** (ReLU activation).  \n",
    "   - **32 neurons** (ReLU activation).  \n",
    "   - **Output Layer**: Reconstructs input using **sigmoid activation**.  \n",
    "\n",
    "### 🎯 **Purpose of Autoencoder**  \n",
    "- Trains on **only normal transactions** to **learn normal patterns**.  \n",
    "- **Reconstruction error** helps identify **anomalous (fraudulent) transactions**.  \n",
    "- Uses **MSE (Mean Squared Error)** loss for reconstruction accuracy.  \n",
    "- Optimized using **Adam optimizer**.  \n",
    "\n",
    "🚀 **Autoencoder is now ready for training!** 🏋️‍♂️  "
   ]
  },
  {
   "cell_type": "code",
   "execution_count": null,
   "id": "fdec1828-beb3-44d4-bbec-ad29dc2416ae",
   "metadata": {},
   "outputs": [],
   "source": []
  },
  {
   "cell_type": "code",
   "execution_count": 3,
   "id": "7a42ce2b-8a2d-41b6-9844-9c352aebfcb8",
   "metadata": {},
   "outputs": [],
   "source": [
    "import tensorflow as tf\n",
    "from tensorflow import keras\n",
    "from tensorflow.keras.layers import Input, Dense\n",
    "\n",
    "# Define encoder\n",
    "def build_autoencoder(input_dim):\n",
    "    input_layer = Input(shape=(input_dim,))\n",
    "    encoded = Dense(32, activation='relu')(input_layer)\n",
    "    encoded = Dense(16, activation='relu')(encoded)\n",
    "    encoded = Dense(8, activation='relu')(encoded)\n",
    "    \n",
    "    # Decoder\n",
    "    decoded = Dense(16, activation='relu')(encoded)\n",
    "    decoded = Dense(32, activation='relu')(decoded)\n",
    "    output_layer = Dense(input_dim, activation='sigmoid')(decoded)\n",
    "    \n",
    "    autoencoder = keras.Model(input_layer, output_layer)\n",
    "    autoencoder.compile(optimizer='adam', loss='mse')\n",
    "    return autoencoder\n",
    "\n",
    "# Instantiate model\n",
    "input_dim = train_normal.shape[1]\n",
    "autoencoder = build_autoencoder(input_dim)"
   ]
  },
  {
   "cell_type": "markdown",
   "id": "a4c98956-56f4-4c17-b613-7e4653f8921b",
   "metadata": {},
   "source": [
    "## Training the Autoencoder"
   ]
  },
  {
   "cell_type": "markdown",
   "id": "f01adf74-0c21-47e1-acfe-3a711a280d55",
   "metadata": {},
   "source": [
    "# 📊 **Training the Autoencoder**  \n",
    "\n",
    "### 🏋️ **Training Details**  \n",
    "✅ **Dataset**: Trained only on **normal transactions** (fraud-free data).  \n",
    "✅ **Epochs**: 50 (number of training iterations).  \n",
    "✅ **Batch Size**: 64 (number of samples per training step).  \n",
    "✅ **Validation Split**: 10% of normal data used for validation.  \n",
    "✅ **Loss Function**: **Mean Squared Error (MSE)**.  \n",
    "✅ **Optimizer**: **Adam** (adaptive learning rate).  \n",
    "\n",
    "### 🚀 **Training Process**  \n",
    "- The autoencoder **learns to reconstruct normal transactions** efficiently.  \n",
    "- It **minimizes reconstruction error** for normal data.  \n",
    "- Later, high reconstruction errors on **fraudulent transactions** indicate **anomalies**.  "
   ]
  },
  {
   "cell_type": "code",
   "execution_count": 4,
   "id": "063272f0-ce96-4c33-8170-24db1db5f592",
   "metadata": {},
   "outputs": [
    {
     "name": "stdout",
     "output_type": "stream",
     "text": [
      "Epoch 1/50\n",
      "\u001b[1m3199/3199\u001b[0m \u001b[32m━━━━━━━━━━━━━━━━━━━━\u001b[0m\u001b[37m\u001b[0m \u001b[1m10s\u001b[0m 2ms/step - loss: 0.9052 - val_loss: 0.8160\n",
      "Epoch 2/50\n",
      "\u001b[1m3199/3199\u001b[0m \u001b[32m━━━━━━━━━━━━━━━━━━━━\u001b[0m\u001b[37m\u001b[0m \u001b[1m8s\u001b[0m 2ms/step - loss: 0.8414 - val_loss: 0.7955\n",
      "Epoch 3/50\n",
      "\u001b[1m3199/3199\u001b[0m \u001b[32m━━━━━━━━━━━━━━━━━━━━\u001b[0m\u001b[37m\u001b[0m \u001b[1m7s\u001b[0m 2ms/step - loss: 0.7981 - val_loss: 0.7830\n",
      "Epoch 4/50\n",
      "\u001b[1m3199/3199\u001b[0m \u001b[32m━━━━━━━━━━━━━━━━━━━━\u001b[0m\u001b[37m\u001b[0m \u001b[1m7s\u001b[0m 2ms/step - loss: 0.7910 - val_loss: 0.7784\n",
      "Epoch 5/50\n",
      "\u001b[1m3199/3199\u001b[0m \u001b[32m━━━━━━━━━━━━━━━━━━━━\u001b[0m\u001b[37m\u001b[0m \u001b[1m7s\u001b[0m 2ms/step - loss: 0.7911 - val_loss: 0.7755\n",
      "Epoch 6/50\n",
      "\u001b[1m3199/3199\u001b[0m \u001b[32m━━━━━━━━━━━━━━━━━━━━\u001b[0m\u001b[37m\u001b[0m \u001b[1m7s\u001b[0m 2ms/step - loss: 0.7759 - val_loss: 0.7724\n",
      "Epoch 7/50\n",
      "\u001b[1m3199/3199\u001b[0m \u001b[32m━━━━━━━━━━━━━━━━━━━━\u001b[0m\u001b[37m\u001b[0m \u001b[1m8s\u001b[0m 2ms/step - loss: 0.7702 - val_loss: 0.7691\n",
      "Epoch 8/50\n",
      "\u001b[1m3199/3199\u001b[0m \u001b[32m━━━━━━━━━━━━━━━━━━━━\u001b[0m\u001b[37m\u001b[0m \u001b[1m8s\u001b[0m 3ms/step - loss: 0.7729 - val_loss: 0.7682\n",
      "Epoch 9/50\n",
      "\u001b[1m3199/3199\u001b[0m \u001b[32m━━━━━━━━━━━━━━━━━━━━\u001b[0m\u001b[37m\u001b[0m \u001b[1m9s\u001b[0m 3ms/step - loss: 0.7675 - val_loss: 0.7651\n",
      "Epoch 10/50\n",
      "\u001b[1m3199/3199\u001b[0m \u001b[32m━━━━━━━━━━━━━━━━━━━━\u001b[0m\u001b[37m\u001b[0m \u001b[1m8s\u001b[0m 3ms/step - loss: 0.7727 - val_loss: 0.7644\n",
      "Epoch 11/50\n",
      "\u001b[1m3199/3199\u001b[0m \u001b[32m━━━━━━━━━━━━━━━━━━━━\u001b[0m\u001b[37m\u001b[0m \u001b[1m8s\u001b[0m 2ms/step - loss: 0.7564 - val_loss: 0.7624\n",
      "Epoch 12/50\n",
      "\u001b[1m3199/3199\u001b[0m \u001b[32m━━━━━━━━━━━━━━━━━━━━\u001b[0m\u001b[37m\u001b[0m \u001b[1m9s\u001b[0m 3ms/step - loss: 0.7566 - val_loss: 0.7614\n",
      "Epoch 13/50\n",
      "\u001b[1m3199/3199\u001b[0m \u001b[32m━━━━━━━━━━━━━━━━━━━━\u001b[0m\u001b[37m\u001b[0m \u001b[1m7s\u001b[0m 2ms/step - loss: 0.7633 - val_loss: 0.7606\n",
      "Epoch 14/50\n",
      "\u001b[1m3199/3199\u001b[0m \u001b[32m━━━━━━━━━━━━━━━━━━━━\u001b[0m\u001b[37m\u001b[0m \u001b[1m7s\u001b[0m 2ms/step - loss: 0.7739 - val_loss: 0.7600\n",
      "Epoch 15/50\n",
      "\u001b[1m3199/3199\u001b[0m \u001b[32m━━━━━━━━━━━━━━━━━━━━\u001b[0m\u001b[37m\u001b[0m \u001b[1m8s\u001b[0m 2ms/step - loss: 0.7655 - val_loss: 0.7592\n",
      "Epoch 16/50\n",
      "\u001b[1m3199/3199\u001b[0m \u001b[32m━━━━━━━━━━━━━━━━━━━━\u001b[0m\u001b[37m\u001b[0m \u001b[1m13s\u001b[0m 4ms/step - loss: 0.7616 - val_loss: 0.7572\n",
      "Epoch 17/50\n",
      "\u001b[1m3199/3199\u001b[0m \u001b[32m━━━━━━━━━━━━━━━━━━━━\u001b[0m\u001b[37m\u001b[0m \u001b[1m10s\u001b[0m 3ms/step - loss: 0.7693 - val_loss: 0.7572\n",
      "Epoch 18/50\n",
      "\u001b[1m3199/3199\u001b[0m \u001b[32m━━━━━━━━━━━━━━━━━━━━\u001b[0m\u001b[37m\u001b[0m \u001b[1m10s\u001b[0m 3ms/step - loss: 0.7794 - val_loss: 0.7565\n",
      "Epoch 19/50\n",
      "\u001b[1m3199/3199\u001b[0m \u001b[32m━━━━━━━━━━━━━━━━━━━━\u001b[0m\u001b[37m\u001b[0m \u001b[1m11s\u001b[0m 3ms/step - loss: 0.7753 - val_loss: 0.7557\n",
      "Epoch 20/50\n",
      "\u001b[1m3199/3199\u001b[0m \u001b[32m━━━━━━━━━━━━━━━━━━━━\u001b[0m\u001b[37m\u001b[0m \u001b[1m10s\u001b[0m 3ms/step - loss: 0.7528 - val_loss: 0.7552\n",
      "Epoch 21/50\n",
      "\u001b[1m3199/3199\u001b[0m \u001b[32m━━━━━━━━━━━━━━━━━━━━\u001b[0m\u001b[37m\u001b[0m \u001b[1m7s\u001b[0m 2ms/step - loss: 0.7600 - val_loss: 0.7541\n",
      "Epoch 22/50\n",
      "\u001b[1m3199/3199\u001b[0m \u001b[32m━━━━━━━━━━━━━━━━━━━━\u001b[0m\u001b[37m\u001b[0m \u001b[1m10s\u001b[0m 3ms/step - loss: 0.7708 - val_loss: 0.7540\n",
      "Epoch 23/50\n",
      "\u001b[1m3199/3199\u001b[0m \u001b[32m━━━━━━━━━━━━━━━━━━━━\u001b[0m\u001b[37m\u001b[0m \u001b[1m8s\u001b[0m 2ms/step - loss: 0.7518 - val_loss: 0.7538\n",
      "Epoch 24/50\n",
      "\u001b[1m3199/3199\u001b[0m \u001b[32m━━━━━━━━━━━━━━━━━━━━\u001b[0m\u001b[37m\u001b[0m \u001b[1m8s\u001b[0m 2ms/step - loss: 0.7481 - val_loss: 0.7531\n",
      "Epoch 25/50\n",
      "\u001b[1m3199/3199\u001b[0m \u001b[32m━━━━━━━━━━━━━━━━━━━━\u001b[0m\u001b[37m\u001b[0m \u001b[1m8s\u001b[0m 3ms/step - loss: 0.7758 - val_loss: 0.7518\n",
      "Epoch 26/50\n",
      "\u001b[1m3199/3199\u001b[0m \u001b[32m━━━━━━━━━━━━━━━━━━━━\u001b[0m\u001b[37m\u001b[0m \u001b[1m8s\u001b[0m 2ms/step - loss: 0.7744 - val_loss: 0.7514\n",
      "Epoch 27/50\n",
      "\u001b[1m3199/3199\u001b[0m \u001b[32m━━━━━━━━━━━━━━━━━━━━\u001b[0m\u001b[37m\u001b[0m \u001b[1m8s\u001b[0m 2ms/step - loss: 0.7500 - val_loss: 0.7511\n",
      "Epoch 28/50\n",
      "\u001b[1m3199/3199\u001b[0m \u001b[32m━━━━━━━━━━━━━━━━━━━━\u001b[0m\u001b[37m\u001b[0m \u001b[1m7s\u001b[0m 2ms/step - loss: 0.7504 - val_loss: 0.7511\n",
      "Epoch 29/50\n",
      "\u001b[1m3199/3199\u001b[0m \u001b[32m━━━━━━━━━━━━━━━━━━━━\u001b[0m\u001b[37m\u001b[0m \u001b[1m8s\u001b[0m 3ms/step - loss: 0.7410 - val_loss: 0.7508\n",
      "Epoch 30/50\n",
      "\u001b[1m3199/3199\u001b[0m \u001b[32m━━━━━━━━━━━━━━━━━━━━\u001b[0m\u001b[37m\u001b[0m \u001b[1m7s\u001b[0m 2ms/step - loss: 0.7416 - val_loss: 0.7507\n",
      "Epoch 31/50\n",
      "\u001b[1m3199/3199\u001b[0m \u001b[32m━━━━━━━━━━━━━━━━━━━━\u001b[0m\u001b[37m\u001b[0m \u001b[1m7s\u001b[0m 2ms/step - loss: 0.7548 - val_loss: 0.7504\n",
      "Epoch 32/50\n",
      "\u001b[1m3199/3199\u001b[0m \u001b[32m━━━━━━━━━━━━━━━━━━━━\u001b[0m\u001b[37m\u001b[0m \u001b[1m10s\u001b[0m 3ms/step - loss: 0.7794 - val_loss: 0.7504\n",
      "Epoch 33/50\n",
      "\u001b[1m3199/3199\u001b[0m \u001b[32m━━━━━━━━━━━━━━━━━━━━\u001b[0m\u001b[37m\u001b[0m \u001b[1m8s\u001b[0m 2ms/step - loss: 0.7501 - val_loss: 0.7496\n",
      "Epoch 34/50\n",
      "\u001b[1m3199/3199\u001b[0m \u001b[32m━━━━━━━━━━━━━━━━━━━━\u001b[0m\u001b[37m\u001b[0m \u001b[1m9s\u001b[0m 3ms/step - loss: 0.7562 - val_loss: 0.7488\n",
      "Epoch 35/50\n",
      "\u001b[1m3199/3199\u001b[0m \u001b[32m━━━━━━━━━━━━━━━━━━━━\u001b[0m\u001b[37m\u001b[0m \u001b[1m8s\u001b[0m 3ms/step - loss: 0.7580 - val_loss: 0.7512\n",
      "Epoch 36/50\n",
      "\u001b[1m3199/3199\u001b[0m \u001b[32m━━━━━━━━━━━━━━━━━━━━\u001b[0m\u001b[37m\u001b[0m \u001b[1m8s\u001b[0m 3ms/step - loss: 0.7559 - val_loss: 0.7481\n",
      "Epoch 37/50\n",
      "\u001b[1m3199/3199\u001b[0m \u001b[32m━━━━━━━━━━━━━━━━━━━━\u001b[0m\u001b[37m\u001b[0m \u001b[1m8s\u001b[0m 2ms/step - loss: 0.7494 - val_loss: 0.7483\n",
      "Epoch 38/50\n",
      "\u001b[1m3199/3199\u001b[0m \u001b[32m━━━━━━━━━━━━━━━━━━━━\u001b[0m\u001b[37m\u001b[0m \u001b[1m7s\u001b[0m 2ms/step - loss: 0.7568 - val_loss: 0.7477\n",
      "Epoch 39/50\n",
      "\u001b[1m3199/3199\u001b[0m \u001b[32m━━━━━━━━━━━━━━━━━━━━\u001b[0m\u001b[37m\u001b[0m \u001b[1m10s\u001b[0m 3ms/step - loss: 0.7609 - val_loss: 0.7467\n",
      "Epoch 40/50\n",
      "\u001b[1m3199/3199\u001b[0m \u001b[32m━━━━━━━━━━━━━━━━━━━━\u001b[0m\u001b[37m\u001b[0m \u001b[1m9s\u001b[0m 3ms/step - loss: 0.7863 - val_loss: 0.7467\n",
      "Epoch 41/50\n",
      "\u001b[1m3199/3199\u001b[0m \u001b[32m━━━━━━━━━━━━━━━━━━━━\u001b[0m\u001b[37m\u001b[0m \u001b[1m8s\u001b[0m 3ms/step - loss: 0.7716 - val_loss: 0.7462\n",
      "Epoch 42/50\n",
      "\u001b[1m3199/3199\u001b[0m \u001b[32m━━━━━━━━━━━━━━━━━━━━\u001b[0m\u001b[37m\u001b[0m \u001b[1m9s\u001b[0m 3ms/step - loss: 0.7530 - val_loss: 0.7446\n",
      "Epoch 43/50\n",
      "\u001b[1m3199/3199\u001b[0m \u001b[32m━━━━━━━━━━━━━━━━━━━━\u001b[0m\u001b[37m\u001b[0m \u001b[1m8s\u001b[0m 3ms/step - loss: 0.7659 - val_loss: 0.7442\n",
      "Epoch 44/50\n",
      "\u001b[1m3199/3199\u001b[0m \u001b[32m━━━━━━━━━━━━━━━━━━━━\u001b[0m\u001b[37m\u001b[0m \u001b[1m9s\u001b[0m 3ms/step - loss: 0.7526 - val_loss: 0.7434\n",
      "Epoch 45/50\n",
      "\u001b[1m3199/3199\u001b[0m \u001b[32m━━━━━━━━━━━━━━━━━━━━\u001b[0m\u001b[37m\u001b[0m \u001b[1m8s\u001b[0m 3ms/step - loss: 0.7486 - val_loss: 0.7424\n",
      "Epoch 46/50\n",
      "\u001b[1m3199/3199\u001b[0m \u001b[32m━━━━━━━━━━━━━━━━━━━━\u001b[0m\u001b[37m\u001b[0m \u001b[1m8s\u001b[0m 2ms/step - loss: 0.7613 - val_loss: 0.7424\n",
      "Epoch 47/50\n",
      "\u001b[1m3199/3199\u001b[0m \u001b[32m━━━━━━━━━━━━━━━━━━━━\u001b[0m\u001b[37m\u001b[0m \u001b[1m10s\u001b[0m 3ms/step - loss: 0.7586 - val_loss: 0.7421\n",
      "Epoch 48/50\n",
      "\u001b[1m3199/3199\u001b[0m \u001b[32m━━━━━━━━━━━━━━━━━━━━\u001b[0m\u001b[37m\u001b[0m \u001b[1m8s\u001b[0m 3ms/step - loss: 0.7686 - val_loss: 0.7417\n",
      "Epoch 49/50\n",
      "\u001b[1m3199/3199\u001b[0m \u001b[32m━━━━━━━━━━━━━━━━━━━━\u001b[0m\u001b[37m\u001b[0m \u001b[1m10s\u001b[0m 3ms/step - loss: 0.7441 - val_loss: 0.7412\n",
      "Epoch 50/50\n",
      "\u001b[1m3199/3199\u001b[0m \u001b[32m━━━━━━━━━━━━━━━━━━━━\u001b[0m\u001b[37m\u001b[0m \u001b[1m9s\u001b[0m 3ms/step - loss: 0.7690 - val_loss: 0.7413\n"
     ]
    }
   ],
   "source": [
    "history = autoencoder.fit(train_normal, train_normal, epochs=50, batch_size=64, validation_split=0.1, verbose=1)"
   ]
  },
  {
   "cell_type": "markdown",
   "id": "8c11ef8f-61e9-4a88-a8cf-6656670b6a37",
   "metadata": {},
   "source": [
    "## Plot Training Loss"
   ]
  },
  {
   "cell_type": "markdown",
   "id": "ec3ae3d2-6444-47ba-a664-57ecde0e0ba8",
   "metadata": {},
   "source": [
    "# 📉 **Autoencoder Training Loss Plot**  \n",
    "\n",
    "### 📌 **Loss Curves Analysis**  \n",
    "- **Blue Line (Train Loss)**: Measures reconstruction error on **training data**.  \n",
    "- **Orange Line (Validation Loss)**: Measures reconstruction error on **validation data**.  \n",
    "\n",
    "\n"
   ]
  },
  {
   "cell_type": "code",
   "execution_count": 5,
   "id": "f36f261e-2f68-4b1e-96e7-8d276f3a7a38",
   "metadata": {},
   "outputs": [
    {
     "data": {
      "image/png": "[encoded data removed]",
      "text/plain": [
       "<Figure size 640x480 with 1 Axes>"
      ]
     },
     "metadata": {},
     "output_type": "display_data"
    }
   ],
   "source": [
    "plt.plot(history.history['loss'], label='Train Loss')\n",
    "plt.plot(history.history['val_loss'], label='Validation Loss')\n",
    "plt.legend()\n",
    "plt.show()"
   ]
  },
  {
   "cell_type": "markdown",
   "id": "60e217b1-e31a-4d24-9c19-64074e3eb699",
   "metadata": {},
   "source": [
    "### 🔍 **Key Observations**  \n",
    "✅ Loss should **decrease** over epochs, showing **improved reconstruction**.  \n",
    "✅ If **validation loss diverges** from train loss, it indicates **overfitting**.  \n",
    "✅ A **stable gap** between train and val loss is **ideal** for generalization.  \n",
    "\n",
    "🔮 **Next Step:** Use the trained model to **detect anomalies**! 🚀  "
   ]
  },
  {
   "cell_type": "markdown",
   "id": "082fbfbb-6cb7-4d87-a133-661a51bea2f4",
   "metadata": {},
   "source": [
    "## Evaluating Anomaly Detection Performance"
   ]
  },
  {
   "cell_type": "markdown",
   "id": "e623609e-5e98-494d-8043-f597e284c2f7",
   "metadata": {},
   "source": [
    "# 📊 **Reconstruction Error Distribution**  \n",
    "\n",
    "### 📌 **What This Tells Us**  \n",
    "- **X-Axis (Reconstruction Error):** Measures how different reconstructed data is from original.  \n",
    "- **Y-Axis (Frequency):** Number of samples falling into each error range.  \n",
    "\n",
    "### 🔍 **Key Insights**  \n",
    "✅ **Low errors (left side)** = Normal transactions.  \n",
    "✅ **High errors (right side)** = Potential anomalies (fraudulent transactions).  \n",
    "✅ A **clear threshold** can be set to classify anomalies.  \n"
   ]
  },
  {
   "cell_type": "code",
   "execution_count": 6,
   "id": "21c20018-e4d4-466a-93b2-aa6438febcf7",
   "metadata": {},
   "outputs": [
    {
     "name": "stdout",
     "output_type": "stream",
     "text": [
      "\u001b[1m1777/1777\u001b[0m \u001b[32m━━━━━━━━━━━━━━━━━━━━\u001b[0m\u001b[37m\u001b[0m \u001b[1m2s\u001b[0m 1ms/step\n"
     ]
    },
    {
     "data": {
      "image/png": "[encoded data removed]",
      "text/plain": [
       "<Figure size 640x480 with 1 Axes>"
      ]
     },
     "metadata": {},
     "output_type": "display_data"
    }
   ],
   "source": [
    "reconstructed = autoencoder.predict(test_normal)\n",
    "mse = np.mean(np.power(test_normal - reconstructed, 2), axis=1)\n",
    "\n",
    "plt.hist(mse, bins=50)\n",
    "plt.xlabel(\"Reconstruction Error\")\n",
    "plt.ylabel(\"Frequency\")\n",
    "plt.show()"
   ]
  },
  {
   "cell_type": "markdown",
   "id": "965c404f-3cab-4542-bdb9-4c2df21bbc6c",
   "metadata": {
    "jupyter": {
     "source_hidden": true
    }
   },
   "source": [
    "## Setting a Threshold for Anomaly Detection"
   ]
  },
  {
   "cell_type": "code",
   "execution_count": 7,
   "id": "94722603-0987-4cca-9831-c6d371c583c3",
   "metadata": {},
   "outputs": [
    {
     "name": "stdout",
     "output_type": "stream",
     "text": [
      "Anomaly Threshold: 1.0209578369863188\n"
     ]
    }
   ],
   "source": [
    "threshold = np.percentile(mse, 90)\n",
    "print(\"Anomaly Threshold:\", threshold)"
   ]
  },
  {
   "cell_type": "code",
   "execution_count": 8,
   "id": "71e1c684-701e-48fb-9a7c-bed369a356b2",
   "metadata": {},
   "outputs": [
    {
     "name": "stdout",
     "output_type": "stream",
     "text": [
      "\u001b[1m4/4\u001b[0m \u001b[32m━━━━━━━━━━━━━━━━━━━━\u001b[0m\u001b[37m\u001b[0m \u001b[1m0s\u001b[0m 29ms/step\n",
      "Detected Anomalies: 90\n"
     ]
    }
   ],
   "source": [
    "reconstructed_anomalies = autoencoder.predict(test_anomalies)\n",
    "anomaly_mse = np.mean(np.power(test_anomalies - reconstructed_anomalies, 2), axis=1)\n",
    "\n",
    "anomaly_predictions = anomaly_mse > threshold\n",
    "print(\"Detected Anomalies:\", np.sum(anomaly_predictions))"
   ]
  },
  {
   "cell_type": "markdown",
   "id": "811e475d-0926-4d6e-8133-71a28f9cd703",
   "metadata": {},
   "source": [
    "## Detecting Fraudulent Transactions\n",
    "## 🔍 **Detecting Anomalies with the Autoencoder**\n",
    "\n",
    "### 📊 **Anomaly Detection Process**\n",
    "- The autoencoder **reconstructs the anomalous transactions**.\n",
    "- The **Mean Squared Error (MSE)** is calculated between original and reconstructed anomalies.\n",
    "- If the **MSE exceeds the threshold**, the transaction is flagged as an anomaly.\n",
    "\n",
    "### 🚨 **Results**\n",
    "- The model predicts anomalies based on reconstruction error.\n",
    "- **Total Detected Anomalies**: Computed by comparing errors against the threshold.\n"
   ]
  },
  {
   "cell_type": "code",
   "execution_count": null,
   "id": "b7132565-6a56-4e25-a25d-aee952ed47bd",
   "metadata": {},
   "outputs": [],
   "source": []
  },
  {
   "cell_type": "markdown",
   "id": "73b8c504-fd2c-4a01-80d8-cd1694f80b48",
   "metadata": {},
   "source": [
    "## Advanced Concepts: Variational Autoencoders (VAEs)"
   ]
  },
  {
   "cell_type": "code",
   "execution_count": 10,
   "id": "1fd53a7b-bf40-4317-80b5-b8c3502ce67b",
   "metadata": {},
   "outputs": [],
   "source": [
    "from tensorflow.keras.layers import Lambda\n",
    "from tensorflow.keras.losses import binary_crossentropy\n",
    "import tensorflow.keras.backend as K\n",
    "\n",
    "# Custom VAE loss\n",
    "def vae_loss(x, x_decoded_mean):\n",
    "    reconstruction_loss = binary_crossentropy(x, x_decoded_mean)\n",
    "    kl_loss = -0.5 * K.sum(1 + z_log_var - K.square(z_mean) - K.exp(z_log_var), axis=-1)\n",
    "    return reconstruction_loss + kl_loss"
   ]
  },
  {
   "cell_type": "markdown",
   "id": "a1f491f7-5de9-4c0e-8df1-02f3eda8d091",
   "metadata": {},
   "source": [
    "## 🔬 **Custom Variational Autoencoder (VAE) Loss Function**\n",
    "\n",
    "### 📉 **VAE Loss Components**\n",
    "1. **Reconstruction Loss** 🎯  \n",
    "   - Measures how well the **decoded data** matches the **original input**.  \n",
    "   - Uses **Binary Cross-Entropy (BCE)** to compute the reconstruction error.  \n",
    "\n",
    "2. **KL Divergence Loss** 📏  \n",
    "   - Ensures the **learned latent space** follows a **Gaussian distribution**.  \n",
    "   - Calculated as:  \n",
    "     \\[\n",
    "     KL = -0.5 \\sum(1 + \\log(\\sigma^2) - \\mu^2 - \\sigma^2)\n",
    "     \\]\n",
    "   - Helps with **regularization** by preventing overfitting.  \n",
    "\n",
    "### ⚙️ **Final Loss Function**\n",
    "- The total **VAE loss** is the sum of **reconstruction loss** and **KL divergence loss**.  \n",
    "- This balances **data reconstruction accuracy** with **latent space regularization**.  \n"
   ]
  },
  {
   "cell_type": "markdown",
   "id": "5f96205a-e9ef-4c61-b2b9-31a48c6a5a1c",
   "metadata": {},
   "source": [
    " ## Advanced Concepts: Transformer-based Autoencoders"
   ]
  },
  {
   "cell_type": "code",
   "execution_count": 11,
   "id": "3a37419c-897f-4926-ad74-d8548240299d",
   "metadata": {},
   "outputs": [],
   "source": [
    "from transformers import TFAutoModel\n",
    "\n",
    "# Transformer Encoder\n",
    "class TransformerAutoencoder(tf.keras.Model):\n",
    "    def __init__(self, input_dim):\n",
    "        super(TransformerAutoencoder, self).__init__()\n",
    "        self.encoder = TFAutoModel.from_pretrained(\"bert-base-uncased\")\n",
    "        self.decoder = Dense(input_dim, activation='sigmoid')\n",
    "    \n",
    "    def call(self, x):\n",
    "        encoded = self.encoder(x)[0]\n",
    "        return self.decoder(encoded)"
   ]
  },
  {
   "cell_type": "markdown",
   "id": "e6a4b0b8-f99e-46c4-a478-81c6f078dbfc",
   "metadata": {},
   "source": [
    "## 🤖 **Transformer-Based Autoencoder**\n",
    "\n",
    "### 🔍 **Model Overview**\n",
    "- Utilizes a **pretrained BERT model** (`bert-base-uncased`) as the **encoder**.  \n",
    "- A **fully connected layer (Dense layer)** serves as the **decoder**.  \n",
    "\n",
    "### ⚙️ **How It Works**\n",
    "1. **Encoding Phase** 🚀  \n",
    "   - Input data is passed through **BERT**, extracting contextual representations.  \n",
    "2. **Decoding Phase** 🔄  \n",
    "   - The **Dense layer** reconstructs the original input using a **sigmoid activation function**.  \n",
    "\n",
    "### 📌 **Why Use Transformers?**\n",
    "✔ **Captures complex dependencies** in data.  \n",
    "✔ **Leverages transfer learning** for efficient encoding.  \n",
    "✔ **Ideal for sequential and structured data reconstruction.**  \n"
   ]
  },
  {
   "cell_type": "code",
   "execution_count": null,
   "id": "a10abfa8-1bbe-46cf-8ea5-acd6bb368c6d",
   "metadata": {},
   "outputs": [],
   "source": []
  }
 ],
 "metadata": {
  "kernelspec": {
   "display_name": "Python 3 (ipykernel)",
   "language": "python",
   "name": "python3"
  },
  "language_info": {
   "codemirror_mode": {
    "name": "ipython",
    "version": 3
   },
   "file_extension": ".py",
   "mimetype": "text/x-python",
   "name": "python",
   "nbconvert_exporter": "python",
   "pygments_lexer": "ipython3",
   "version": "3.13.2"
  }
 },
 "nbformat": 4,
 "nbformat_minor": 5
}
